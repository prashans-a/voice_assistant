{
 "cells": [
  {
   "cell_type": "code",
   "execution_count": null,
   "id": "1256468c",
   "metadata": {},
   "outputs": [],
   "source": [
    "pip install pyttsx3"
   ]
  },
  {
   "cell_type": "code",
   "execution_count": null,
   "id": "e8e73283",
   "metadata": {},
   "outputs": [],
   "source": [
    "pip install pyaudio"
   ]
  },
  {
   "cell_type": "code",
   "execution_count": null,
   "id": "1cc3ee0d",
   "metadata": {},
   "outputs": [],
   "source": [
    "pip install speechRecognition"
   ]
  },
  {
   "cell_type": "code",
   "execution_count": null,
   "id": "eada77da",
   "metadata": {},
   "outputs": [],
   "source": [
    "pip install beautifulsoup4"
   ]
  },
  {
   "cell_type": "code",
   "execution_count": null,
   "id": "14337607",
   "metadata": {},
   "outputs": [],
   "source": [
    "pip install google"
   ]
  },
  {
   "cell_type": "code",
   "execution_count": null,
   "id": "373dc586",
   "metadata": {},
   "outputs": [],
   "source": [
    "pip install pyjokes"
   ]
  },
  {
   "cell_type": "code",
   "execution_count": null,
   "id": "82ecc001",
   "metadata": {},
   "outputs": [],
   "source": [
    "pip install wolframalpha"
   ]
  },
  {
   "cell_type": "code",
   "execution_count": 1,
   "id": "8a47ce42",
   "metadata": {},
   "outputs": [],
   "source": [
    "import requests"
   ]
  },
  {
   "cell_type": "code",
   "execution_count": 2,
   "id": "0b29bfab",
   "metadata": {},
   "outputs": [],
   "source": [
    "import wolframalpha"
   ]
  },
  {
   "cell_type": "code",
   "execution_count": 3,
   "id": "92a61a59",
   "metadata": {},
   "outputs": [],
   "source": [
    "import datetime"
   ]
  },
  {
   "cell_type": "code",
   "execution_count": 4,
   "id": "82f789fc",
   "metadata": {},
   "outputs": [],
   "source": [
    "import pyjokes"
   ]
  },
  {
   "cell_type": "code",
   "execution_count": 5,
   "id": "1c2fe678",
   "metadata": {},
   "outputs": [],
   "source": [
    "import speech_recognition"
   ]
  },
  {
   "cell_type": "code",
   "execution_count": 6,
   "id": "6567c130",
   "metadata": {},
   "outputs": [],
   "source": [
    "import speech_recognition as sr"
   ]
  },
  {
   "cell_type": "code",
   "execution_count": 7,
   "id": "b153f467",
   "metadata": {},
   "outputs": [],
   "source": [
    "from urllib.request import urlopen"
   ]
  },
  {
   "cell_type": "code",
   "execution_count": 8,
   "id": "87f0c92e",
   "metadata": {},
   "outputs": [],
   "source": [
    "def speak(audio):\n",
    "       pass"
   ]
  },
  {
   "cell_type": "code",
   "execution_count": null,
   "id": "83967f9c",
   "metadata": {},
   "outputs": [],
   "source": [
    "from googlesearch import search\n",
    "import pyttsx3\n",
    "import speech_recognition as sr\n",
    "import datetime\n",
    "import wikipedia\n",
    "import webbrowser\n",
    "import os\n",
    "\n",
    "engine = pyttsx3.init('sapi5')\n",
    "\n",
    "voices = engine.getProperty('voices')\n",
    "\n",
    "engine.setProperty('voice', voices[1].id)\n",
    "\n",
    "\n",
    "def speak(audio):\n",
    "    \n",
    "    engine.say(audio)\n",
    "    \n",
    "    engine.runAndWait()\n",
    "\n",
    "\n",
    "def wishMe():\n",
    "    \n",
    "    hour = int(datetime.datetime.now().hour)\n",
    "    \n",
    "    if hour>=0 and hour<12:\n",
    "        \n",
    "        print('Good Morning!')\n",
    "\n",
    "        speak(\"Good Morning!\")\n",
    "\n",
    "    elif hour>=12 and hour<18:\n",
    "        \n",
    "        print('Good Afternoon!')\n",
    "        \n",
    "        speak(\"Good Afternoon!\")   \n",
    "\n",
    "    else:\n",
    "        \n",
    "        print('Good Evening!')\n",
    "    \n",
    "        speak(\"Good Evening!\")  \n",
    "\n",
    "    print(\"Hello I am your voice assistant, How can I help you?\")\n",
    "    \n",
    "    speak(\"Hello I am your voice assistant, How can I help you?\")\n",
    "\n",
    "def takeCommand():\n",
    "\n",
    "    r = sr.Recognizer()\n",
    "    \n",
    "    with sr.Microphone() as source:\n",
    "        \n",
    "        print(\"Listening...\")\n",
    "        \n",
    "        r.pause_threshold = 1\n",
    "        \n",
    "        audio = r.listen(source)\n",
    "\n",
    "    try:\n",
    "        print(\"Recognizing...\")    \n",
    "        \n",
    "        query = r.recognize_google(audio, language='en-in')\n",
    "        \n",
    "        print(f\"You said: {query}\\n\")\n",
    "\n",
    "    except Exception as e:\n",
    "        \n",
    "        print(\"Say that again please...\")  \n",
    "        \n",
    "        return \"None\"\n",
    "    \n",
    "    return query\n",
    "\n",
    "if __name__ == \"__main__\":\n",
    "                    \n",
    "    wishMe()\n",
    "                    \n",
    "    while True:\n",
    "                    \n",
    "        query = takeCommand().lower()\n",
    "\n",
    "        if 'wikipedia' in query:\n",
    "                    \n",
    "            speak('Searching Wikipedia...')\n",
    "            \n",
    "            query = query.replace(\"wikipedia\", \"\")\n",
    "            \n",
    "            results = wikipedia.summary(query, sentences=2)\n",
    "            \n",
    "            speak(\"According to Wikipedia\")\n",
    "            \n",
    "            print(results)\n",
    "            \n",
    "            speak(results)\n",
    "\n",
    "        elif 'open youtube' in query:\n",
    "                    \n",
    "            webbrowser.open(\"http://www.youtube.com\")\n",
    "\n",
    "        elif 'open google' in query:\n",
    "                    \n",
    "            webbrowser.open(\"http://www.google.com\")\n",
    "\n",
    "        elif 'open stackoverflow' in query:\n",
    "                    \n",
    "            webbrowser.open(\"http://www.stackoverflow.com\")   \n",
    "\n",
    "\n",
    "        elif 'play' in query:\n",
    "            \n",
    "            webbrowser.open(\"http://www.music.youtube.com\")\n",
    "\n",
    "        elif 'the time' in query:\n",
    "                    \n",
    "            strTime = datetime.datetime.now().strftime(\"%H:%M:%S\")    \n",
    "                    \n",
    "            speak(f\"Sir, the time is {strTime}\")\n",
    "            \n",
    "            print(f\"Sir, the time is {strTime}\")\n",
    "\n",
    "        elif 'open online coding' in query:\n",
    "            \n",
    "            webbrowser.open(\"https://www.onlinegdb.com\")\n",
    "            \n",
    "        elif \"who made you\" in query or \"who created you\" in query:\n",
    "            \n",
    "            speak(\"I have been created by Varnika and Prashansa.\")\n",
    "        \n",
    "        elif 'joke' in query:\n",
    "            \n",
    "            speak(pyjokes.get_joke())\n",
    "            \n",
    "            print(pyjokes.get_joke())\n",
    "        \n",
    "        elif 'stop listening' in query:\n",
    "            \n",
    "            speak('Alright Goodbye!')\n",
    "            break"
   ]
  },
  {
   "cell_type": "code",
   "execution_count": null,
   "id": "fe46e4c1",
   "metadata": {},
   "outputs": [],
   "source": []
  }
 ],
 "metadata": {
  "kernelspec": {
   "display_name": "Python 3 (ipykernel)",
   "language": "python",
   "name": "python3"
  },
  "language_info": {
   "codemirror_mode": {
    "name": "ipython",
    "version": 3
   },
   "file_extension": ".py",
   "mimetype": "text/x-python",
   "name": "python",
   "nbconvert_exporter": "python",
   "pygments_lexer": "ipython3",
   "version": "3.9.7"
  }
 },
 "nbformat": 4,
 "nbformat_minor": 5
}
